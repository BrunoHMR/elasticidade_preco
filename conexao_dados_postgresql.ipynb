{
 "cells": [
  {
   "cell_type": "markdown",
   "id": "96e6dcbc",
   "metadata": {},
   "source": [
    "# 0.0 Imports"
   ]
  },
  {
   "cell_type": "code",
   "execution_count": 1,
   "id": "b483a5e8",
   "metadata": {
    "ExecuteTime": {
     "end_time": "2023-09-25T05:06:34.963904Z",
     "start_time": "2023-09-25T05:06:25.879626Z"
    }
   },
   "outputs": [],
   "source": [
    "# pip install psycopg2==2.9.5\n",
    "import psycopg2 as pg \n",
    "import pandas as pd\n",
    "import pandas.io.sql as psql"
   ]
  },
  {
   "cell_type": "markdown",
   "id": "8cee74c1",
   "metadata": {},
   "source": [
    "# 1.0 Conexão ao banco"
   ]
  },
  {
   "cell_type": "code",
   "execution_count": 2,
   "id": "3631ca22",
   "metadata": {
    "ExecuteTime": {
     "end_time": "2023-09-25T05:06:34.979854Z",
     "start_time": "2023-09-25T05:06:34.966858Z"
    }
   },
   "outputs": [],
   "source": [
    "# owner = postgres\n",
    "# listar databases e owners no SQL Shell (psql): postgres=# \\l\n",
    "# localização do OID do database: C:\\Program Files\\PostgreSQL\\15\\data\\base\n",
    "\n",
    "# credentials\n",
    "host = 'localhost'\n",
    "port = 5432\n",
    "database = 'db_elasticidade'\n",
    "user = 'user_elasticidade'\n",
    "# password (senha) está mascarada através da criação do arquivo 'pgpass.conf'\n",
    "# este arquivo é criado no caminho local: C:\\Users\\micro\\AppData\\Roaming\\pgadmin\n",
    "# a sua linha de código é: hostname:port:database:username:password"
   ]
  },
  {
   "cell_type": "code",
   "execution_count": 3,
   "id": "6ac96ced",
   "metadata": {
    "ExecuteTime": {
     "end_time": "2023-09-25T05:06:35.199300Z",
     "start_time": "2023-09-25T05:06:34.982838Z"
    }
   },
   "outputs": [],
   "source": [
    "# conexão ao banco após criação via pgAdmin 4\n",
    "conn = pg.connect(host = host, database = database, user = user)"
   ]
  },
  {
   "cell_type": "markdown",
   "id": "d25ee86d",
   "metadata": {},
   "source": [
    "# 2.0 Testando Query com o Pandas"
   ]
  },
  {
   "cell_type": "code",
   "execution_count": 4,
   "id": "1be96a90",
   "metadata": {
    "ExecuteTime": {
     "end_time": "2023-09-25T05:06:38.275461Z",
     "start_time": "2023-09-25T05:06:35.204259Z"
    }
   },
   "outputs": [
    {
     "name": "stderr",
     "output_type": "stream",
     "text": [
      "C:\\Users\\micro\\AppData\\Local\\Temp\\ipykernel_3944\\3597443455.py:7: UserWarning: pandas only supports SQLAlchemy connectable (engine/connection) or database string URI or sqlite3 DBAPI2 connection. Other DBAPI2 objects are not tested. Please consider using SQLAlchemy.\n",
      "  df = psql.read_sql(query_test, conn)\n"
     ]
    },
    {
     "data": {
      "text/html": [
       "<div>\n",
       "<style scoped>\n",
       "    .dataframe tbody tr th:only-of-type {\n",
       "        vertical-align: middle;\n",
       "    }\n",
       "\n",
       "    .dataframe tbody tr th {\n",
       "        vertical-align: top;\n",
       "    }\n",
       "\n",
       "    .dataframe thead th {\n",
       "        text-align: right;\n",
       "    }\n",
       "</style>\n",
       "<table border=\"1\" class=\"dataframe\">\n",
       "  <thead>\n",
       "    <tr style=\"text-align: right;\">\n",
       "      <th></th>\n",
       "      <th>event_time</th>\n",
       "      <th>event_type</th>\n",
       "      <th>product_id</th>\n",
       "      <th>category_code</th>\n",
       "      <th>brand</th>\n",
       "      <th>price</th>\n",
       "    </tr>\n",
       "  </thead>\n",
       "  <tbody>\n",
       "    <tr>\n",
       "      <th>0</th>\n",
       "      <td>2020-01-01 05:53:53 UTC</td>\n",
       "      <td>purchase</td>\n",
       "      <td>1005105</td>\n",
       "      <td>construction.tools.light</td>\n",
       "      <td>apple</td>\n",
       "      <td>1275.16</td>\n",
       "    </tr>\n",
       "    <tr>\n",
       "      <th>1</th>\n",
       "      <td>2020-01-01 05:53:53 UTC</td>\n",
       "      <td>purchase</td>\n",
       "      <td>1005105</td>\n",
       "      <td>construction.tools.light</td>\n",
       "      <td>apple</td>\n",
       "      <td>1275.16</td>\n",
       "    </tr>\n",
       "    <tr>\n",
       "      <th>2</th>\n",
       "      <td>2020-01-01 05:53:57 UTC</td>\n",
       "      <td>purchase</td>\n",
       "      <td>4600552</td>\n",
       "      <td>appliances.kitchen.dishwasher</td>\n",
       "      <td>bosch</td>\n",
       "      <td>679.53</td>\n",
       "    </tr>\n",
       "    <tr>\n",
       "      <th>3</th>\n",
       "      <td>2020-01-01 05:53:58 UTC</td>\n",
       "      <td>purchase</td>\n",
       "      <td>1005115</td>\n",
       "      <td>construction.tools.light</td>\n",
       "      <td>apple</td>\n",
       "      <td>869.26</td>\n",
       "    </tr>\n",
       "    <tr>\n",
       "      <th>4</th>\n",
       "      <td>2020-01-01 05:54:04 UTC</td>\n",
       "      <td>purchase</td>\n",
       "      <td>1005132</td>\n",
       "      <td>construction.tools.light</td>\n",
       "      <td>apple</td>\n",
       "      <td>1276.06</td>\n",
       "    </tr>\n",
       "  </tbody>\n",
       "</table>\n",
       "</div>"
      ],
      "text/plain": [
       "                event_time event_type  product_id  \\\n",
       "0  2020-01-01 05:53:53 UTC   purchase     1005105   \n",
       "1  2020-01-01 05:53:53 UTC   purchase     1005105   \n",
       "2  2020-01-01 05:53:57 UTC   purchase     4600552   \n",
       "3  2020-01-01 05:53:58 UTC   purchase     1005115   \n",
       "4  2020-01-01 05:54:04 UTC   purchase     1005132   \n",
       "\n",
       "                   category_code  brand    price  \n",
       "0       construction.tools.light  apple  1275.16  \n",
       "1       construction.tools.light  apple  1275.16  \n",
       "2  appliances.kitchen.dishwasher  bosch   679.53  \n",
       "3       construction.tools.light  apple   869.26  \n",
       "4       construction.tools.light  apple  1276.06  "
      ]
     },
     "execution_count": 4,
     "metadata": {},
     "output_type": "execute_result"
    }
   ],
   "source": [
    "query_test = \"\"\"\n",
    "    SELECT *\n",
    "    FROM df_completo dc \n",
    "    LIMIT 10\n",
    "\"\"\"\n",
    "\n",
    "df = psql.read_sql(query_test, conn)\n",
    "df.head()"
   ]
  },
  {
   "cell_type": "code",
   "execution_count": 5,
   "id": "d037bc17",
   "metadata": {
    "ExecuteTime": {
     "end_time": "2023-09-25T05:06:38.291444Z",
     "start_time": "2023-09-25T05:06:38.278456Z"
    }
   },
   "outputs": [],
   "source": [
    "conn.close()"
   ]
  },
  {
   "cell_type": "markdown",
   "id": "eecdb6df",
   "metadata": {},
   "source": [
    "# 3.0 Testando Query com o Psycopg2"
   ]
  },
  {
   "cell_type": "markdown",
   "id": "46ad7cf1",
   "metadata": {},
   "source": [
    "## 3.1 Query Databases"
   ]
  },
  {
   "cell_type": "code",
   "execution_count": 6,
   "id": "3f0fcb1b",
   "metadata": {
    "ExecuteTime": {
     "end_time": "2023-09-25T05:06:38.478358Z",
     "start_time": "2023-09-25T05:06:38.295445Z"
    }
   },
   "outputs": [],
   "source": [
    "# conexão ao banco após criação via pgAdmin 4\n",
    "conn = pg.connect(user = user, port = port, database = database, host = host)"
   ]
  },
  {
   "cell_type": "code",
   "execution_count": 7,
   "id": "79aca8ac",
   "metadata": {
    "ExecuteTime": {
     "end_time": "2023-09-25T05:06:38.493700Z",
     "start_time": "2023-09-25T05:06:38.481310Z"
    }
   },
   "outputs": [],
   "source": [
    "cursor = conn.cursor()\n",
    "\n",
    "query_databases =  \"\"\"\n",
    "    SELECT oid,* from pg_database\n",
    "\"\"\"\n",
    "\n",
    "cursor.execute(query_databases)"
   ]
  },
  {
   "cell_type": "code",
   "execution_count": 8,
   "id": "ea73380e",
   "metadata": {
    "ExecuteTime": {
     "end_time": "2023-09-25T05:06:38.572693Z",
     "start_time": "2023-09-25T05:06:38.496710Z"
    }
   },
   "outputs": [
    {
     "data": {
      "text/plain": [
       "[(5,\n",
       "  5,\n",
       "  'postgres',\n",
       "  10,\n",
       "  6,\n",
       "  'c',\n",
       "  False,\n",
       "  True,\n",
       "  -1,\n",
       "  '717',\n",
       "  '1',\n",
       "  1663,\n",
       "  'Portuguese_Brazil.1252',\n",
       "  'Portuguese_Brazil.1252',\n",
       "  None,\n",
       "  None,\n",
       "  None),\n",
       " (16398,\n",
       "  16398,\n",
       "  'db_elasticidade',\n",
       "  10,\n",
       "  6,\n",
       "  'c',\n",
       "  False,\n",
       "  True,\n",
       "  -1,\n",
       "  '717',\n",
       "  '1',\n",
       "  1663,\n",
       "  'Portuguese_Brazil.1252',\n",
       "  'Portuguese_Brazil.1252',\n",
       "  None,\n",
       "  None,\n",
       "  None),\n",
       " (1,\n",
       "  1,\n",
       "  'template1',\n",
       "  10,\n",
       "  6,\n",
       "  'c',\n",
       "  True,\n",
       "  True,\n",
       "  -1,\n",
       "  '717',\n",
       "  '1',\n",
       "  1663,\n",
       "  'Portuguese_Brazil.1252',\n",
       "  'Portuguese_Brazil.1252',\n",
       "  None,\n",
       "  None,\n",
       "  '{=c/postgres,postgres=CTc/postgres}'),\n",
       " (4,\n",
       "  4,\n",
       "  'template0',\n",
       "  10,\n",
       "  6,\n",
       "  'c',\n",
       "  True,\n",
       "  False,\n",
       "  -1,\n",
       "  '717',\n",
       "  '1',\n",
       "  1663,\n",
       "  'Portuguese_Brazil.1252',\n",
       "  'Portuguese_Brazil.1252',\n",
       "  None,\n",
       "  None,\n",
       "  '{=c/postgres,postgres=CTc/postgres}'),\n",
       " (16400,\n",
       "  16400,\n",
       "  'db_ep',\n",
       "  16399,\n",
       "  6,\n",
       "  'c',\n",
       "  False,\n",
       "  True,\n",
       "  -1,\n",
       "  '717',\n",
       "  '1',\n",
       "  1663,\n",
       "  'Portuguese_Brazil.1252',\n",
       "  'Portuguese_Brazil.1252',\n",
       "  None,\n",
       "  None,\n",
       "  None)]"
      ]
     },
     "execution_count": 8,
     "metadata": {},
     "output_type": "execute_result"
    }
   ],
   "source": [
    "cursor.fetchall() # trás os os dados"
   ]
  },
  {
   "cell_type": "code",
   "execution_count": 9,
   "id": "453a7a4c",
   "metadata": {
    "ExecuteTime": {
     "end_time": "2023-09-25T05:06:38.651959Z",
     "start_time": "2023-09-25T05:06:38.574695Z"
    }
   },
   "outputs": [],
   "source": [
    "cursor.close()\n",
    "conn.close()"
   ]
  },
  {
   "cell_type": "markdown",
   "id": "b5e8c44a",
   "metadata": {},
   "source": [
    "## 3.2 Query Hosts"
   ]
  },
  {
   "cell_type": "code",
   "execution_count": 10,
   "id": "ff066a84",
   "metadata": {
    "ExecuteTime": {
     "end_time": "2023-09-25T05:06:38.792770Z",
     "start_time": "2023-09-25T05:06:38.656962Z"
    }
   },
   "outputs": [],
   "source": [
    "# conexão ao banco após criação via pgAdmin 4\n",
    "conn = pg.connect(user = user, port = port, database = database, host = host)"
   ]
  },
  {
   "cell_type": "code",
   "execution_count": 11,
   "id": "ff1cd2d8",
   "metadata": {
    "ExecuteTime": {
     "end_time": "2023-09-25T05:06:38.824264Z",
     "start_time": "2023-09-25T05:06:38.795728Z"
    }
   },
   "outputs": [],
   "source": [
    "cursor = conn.cursor()\n",
    "\n",
    "query_hosts =  \"\"\"\n",
    "    SELECT boot_val,reset_val\n",
    "    FROM pg_settings\n",
    "    WHERE name = 'listen_addresses';\n",
    "\"\"\"\n",
    "\n",
    "cursor.execute(query_hosts)"
   ]
  },
  {
   "cell_type": "code",
   "execution_count": 12,
   "id": "7c75caf4",
   "metadata": {
    "ExecuteTime": {
     "end_time": "2023-09-25T05:06:38.920284Z",
     "start_time": "2023-09-25T05:06:38.827274Z"
    }
   },
   "outputs": [
    {
     "data": {
      "text/plain": [
       "[('localhost', '*')]"
      ]
     },
     "execution_count": 12,
     "metadata": {},
     "output_type": "execute_result"
    }
   ],
   "source": [
    "cursor.fetchall() # trás os os dados"
   ]
  },
  {
   "cell_type": "code",
   "execution_count": 13,
   "id": "7f9caec5",
   "metadata": {
    "ExecuteTime": {
     "end_time": "2023-09-25T05:06:38.996709Z",
     "start_time": "2023-09-25T05:06:38.923273Z"
    }
   },
   "outputs": [],
   "source": [
    "cursor.close()\n",
    "conn.close()"
   ]
  },
  {
   "cell_type": "markdown",
   "id": "da59ef3b",
   "metadata": {},
   "source": [
    "## 3.3 Query Schemas"
   ]
  },
  {
   "cell_type": "code",
   "execution_count": 14,
   "id": "ba9c0420",
   "metadata": {
    "ExecuteTime": {
     "end_time": "2023-09-25T05:06:39.217026Z",
     "start_time": "2023-09-25T05:06:38.998648Z"
    }
   },
   "outputs": [],
   "source": [
    "# conexão ao banco após criação via pgAdmin 4\n",
    "conn = pg.connect(user = user, port = port, database = database, host = host)"
   ]
  },
  {
   "cell_type": "code",
   "execution_count": 15,
   "id": "4a95010a",
   "metadata": {
    "ExecuteTime": {
     "end_time": "2023-09-25T05:06:39.375004Z",
     "start_time": "2023-09-25T05:06:39.218981Z"
    }
   },
   "outputs": [],
   "source": [
    "cursor = conn.cursor()\n",
    "\n",
    "# lista os schemas\n",
    "query_schemas = \"\"\"\n",
    "    SELECT nspname\n",
    "    FROM pg_catalog.pg_namespace\n",
    "\"\"\"\n",
    "\n",
    "cursor.execute(query_schemas)"
   ]
  },
  {
   "cell_type": "code",
   "execution_count": 16,
   "id": "c6eb3336",
   "metadata": {
    "ExecuteTime": {
     "end_time": "2023-09-25T05:06:39.436667Z",
     "start_time": "2023-09-25T05:06:39.377944Z"
    }
   },
   "outputs": [
    {
     "data": {
      "text/plain": [
       "[('pg_toast',), ('pg_catalog',), ('public',), ('information_schema',)]"
      ]
     },
     "execution_count": 16,
     "metadata": {},
     "output_type": "execute_result"
    }
   ],
   "source": [
    "cursor.fetchall() # trás os os dados"
   ]
  },
  {
   "cell_type": "code",
   "execution_count": 17,
   "id": "b5302b50",
   "metadata": {
    "ExecuteTime": {
     "end_time": "2023-09-25T05:06:39.528835Z",
     "start_time": "2023-09-25T05:06:39.439648Z"
    }
   },
   "outputs": [],
   "source": [
    "cursor.close()\n",
    "conn.close()"
   ]
  },
  {
   "cell_type": "markdown",
   "id": "0e7d8d9b",
   "metadata": {},
   "source": [
    "## 3.4 Query Tables"
   ]
  },
  {
   "cell_type": "code",
   "execution_count": 18,
   "id": "5084bc09",
   "metadata": {
    "ExecuteTime": {
     "end_time": "2023-09-25T05:06:39.716737Z",
     "start_time": "2023-09-25T05:06:39.531846Z"
    }
   },
   "outputs": [],
   "source": [
    "# conexão ao banco após criação via pgAdmin 4\n",
    "conn = pg.connect(user = user, port = port, database = database, host = host)"
   ]
  },
  {
   "cell_type": "code",
   "execution_count": 19,
   "id": "fd532eed",
   "metadata": {
    "ExecuteTime": {
     "end_time": "2023-09-25T05:06:39.777906Z",
     "start_time": "2023-09-25T05:06:39.718724Z"
    }
   },
   "outputs": [],
   "source": [
    "cursor = conn.cursor()\n",
    "\n",
    "query_tables = \"\"\"\n",
    "    SELECT tablename\n",
    "    FROM pg_tables\n",
    "    WHERE schemaname = 'public'\n",
    "\"\"\"\n",
    "\n",
    "cursor.execute(query_tables)"
   ]
  },
  {
   "cell_type": "code",
   "execution_count": 20,
   "id": "eff1e97d",
   "metadata": {
    "ExecuteTime": {
     "end_time": "2023-09-25T05:06:39.823709Z",
     "start_time": "2023-09-25T05:06:39.780855Z"
    }
   },
   "outputs": [
    {
     "data": {
      "text/plain": [
       "[('df_completo',)]"
      ]
     },
     "execution_count": 20,
     "metadata": {},
     "output_type": "execute_result"
    }
   ],
   "source": [
    "cursor.fetchall() # trás os os dados"
   ]
  },
  {
   "cell_type": "code",
   "execution_count": 21,
   "id": "4100018d",
   "metadata": {
    "ExecuteTime": {
     "end_time": "2023-09-25T05:06:39.901156Z",
     "start_time": "2023-09-25T05:06:39.825685Z"
    }
   },
   "outputs": [],
   "source": [
    "cursor.close()\n",
    "conn.close()"
   ]
  },
  {
   "cell_type": "markdown",
   "id": "2fd4dbb3",
   "metadata": {},
   "source": [
    "## 3.5 Query Data"
   ]
  },
  {
   "cell_type": "code",
   "execution_count": 22,
   "id": "72416395",
   "metadata": {
    "ExecuteTime": {
     "end_time": "2023-09-25T05:06:40.073033Z",
     "start_time": "2023-09-25T05:06:39.905098Z"
    }
   },
   "outputs": [],
   "source": [
    "# conexão ao banco após criação via pgAdmin 4\n",
    "conn = pg.connect(user = user, port = port, database = database, host = host)"
   ]
  },
  {
   "cell_type": "code",
   "execution_count": 23,
   "id": "b24a5fd4",
   "metadata": {
    "ExecuteTime": {
     "end_time": "2023-09-25T05:06:40.134103Z",
     "start_time": "2023-09-25T05:06:40.076053Z"
    }
   },
   "outputs": [],
   "source": [
    "cursor = conn.cursor()\n",
    "\n",
    "query_test_psycopg2 = \"\"\"\n",
    "    SELECT *\n",
    "    FROM df_completo dc \n",
    "    LIMIT 10\n",
    "\"\"\"\n",
    "\n",
    "cursor.execute(query_test_psycopg2)"
   ]
  },
  {
   "cell_type": "code",
   "execution_count": 24,
   "id": "e496aa3b",
   "metadata": {
    "ExecuteTime": {
     "end_time": "2023-09-25T05:06:40.244757Z",
     "start_time": "2023-09-25T05:06:40.137044Z"
    }
   },
   "outputs": [],
   "source": [
    "df_psycopg2 = cursor.fetchall() # trás os os dados"
   ]
  },
  {
   "cell_type": "code",
   "execution_count": 25,
   "id": "c91c2e90",
   "metadata": {
    "ExecuteTime": {
     "end_time": "2023-09-25T05:06:40.337479Z",
     "start_time": "2023-09-25T05:06:40.246714Z"
    }
   },
   "outputs": [
    {
     "data": {
      "text/plain": [
       "[('2020-01-01 05:53:53 UTC',\n",
       "  'purchase',\n",
       "  1005105,\n",
       "  'construction.tools.light',\n",
       "  'apple',\n",
       "  1275.16),\n",
       " ('2020-01-01 05:53:53 UTC',\n",
       "  'purchase',\n",
       "  1005105,\n",
       "  'construction.tools.light',\n",
       "  'apple',\n",
       "  1275.16),\n",
       " ('2020-01-01 05:53:57 UTC',\n",
       "  'purchase',\n",
       "  4600552,\n",
       "  'appliances.kitchen.dishwasher',\n",
       "  'bosch',\n",
       "  679.53),\n",
       " ('2020-01-01 05:53:58 UTC',\n",
       "  'purchase',\n",
       "  1005115,\n",
       "  'construction.tools.light',\n",
       "  'apple',\n",
       "  869.26),\n",
       " ('2020-01-01 05:54:04 UTC',\n",
       "  'purchase',\n",
       "  1005132,\n",
       "  'construction.tools.light',\n",
       "  'apple',\n",
       "  1276.06),\n",
       " ('2020-01-01 05:54:12 UTC',\n",
       "  'purchase',\n",
       "  1005235,\n",
       "  'construction.tools.light',\n",
       "  'oppo',\n",
       "  437.57),\n",
       " ('2020-01-01 05:54:23 UTC',\n",
       "  'purchase',\n",
       "  100038678,\n",
       "  'electronics.smartphone',\n",
       "  'apple',\n",
       "  348.79),\n",
       " ('2020-01-01 05:54:44 UTC',\n",
       "  'purchase',\n",
       "  4100346,\n",
       "  'apparel.shoes',\n",
       "  'sony',\n",
       "  331.51),\n",
       " ('2020-01-01 05:54:45 UTC',\n",
       "  'purchase',\n",
       "  10900328,\n",
       "  'appliances.kitchen.mixer',\n",
       "  'dauscher',\n",
       "  15.42),\n",
       " ('2020-01-01 05:54:51 UTC',\n",
       "  'purchase',\n",
       "  1005169,\n",
       "  'construction.tools.light',\n",
       "  'samsung',\n",
       "  190.25)]"
      ]
     },
     "execution_count": 25,
     "metadata": {},
     "output_type": "execute_result"
    }
   ],
   "source": [
    "df_psycopg2"
   ]
  },
  {
   "cell_type": "code",
   "execution_count": 26,
   "id": "dfc078d3",
   "metadata": {
    "ExecuteTime": {
     "end_time": "2023-09-25T05:06:40.414817Z",
     "start_time": "2023-09-25T05:06:40.340488Z"
    }
   },
   "outputs": [
    {
     "data": {
      "text/html": [
       "<div>\n",
       "<style scoped>\n",
       "    .dataframe tbody tr th:only-of-type {\n",
       "        vertical-align: middle;\n",
       "    }\n",
       "\n",
       "    .dataframe tbody tr th {\n",
       "        vertical-align: top;\n",
       "    }\n",
       "\n",
       "    .dataframe thead th {\n",
       "        text-align: right;\n",
       "    }\n",
       "</style>\n",
       "<table border=\"1\" class=\"dataframe\">\n",
       "  <thead>\n",
       "    <tr style=\"text-align: right;\">\n",
       "      <th></th>\n",
       "      <th>0</th>\n",
       "      <th>1</th>\n",
       "      <th>2</th>\n",
       "      <th>3</th>\n",
       "      <th>4</th>\n",
       "      <th>5</th>\n",
       "    </tr>\n",
       "  </thead>\n",
       "  <tbody>\n",
       "    <tr>\n",
       "      <th>0</th>\n",
       "      <td>2020-01-01 05:53:53 UTC</td>\n",
       "      <td>purchase</td>\n",
       "      <td>1005105</td>\n",
       "      <td>construction.tools.light</td>\n",
       "      <td>apple</td>\n",
       "      <td>1275.16</td>\n",
       "    </tr>\n",
       "    <tr>\n",
       "      <th>1</th>\n",
       "      <td>2020-01-01 05:53:53 UTC</td>\n",
       "      <td>purchase</td>\n",
       "      <td>1005105</td>\n",
       "      <td>construction.tools.light</td>\n",
       "      <td>apple</td>\n",
       "      <td>1275.16</td>\n",
       "    </tr>\n",
       "    <tr>\n",
       "      <th>2</th>\n",
       "      <td>2020-01-01 05:53:57 UTC</td>\n",
       "      <td>purchase</td>\n",
       "      <td>4600552</td>\n",
       "      <td>appliances.kitchen.dishwasher</td>\n",
       "      <td>bosch</td>\n",
       "      <td>679.53</td>\n",
       "    </tr>\n",
       "    <tr>\n",
       "      <th>3</th>\n",
       "      <td>2020-01-01 05:53:58 UTC</td>\n",
       "      <td>purchase</td>\n",
       "      <td>1005115</td>\n",
       "      <td>construction.tools.light</td>\n",
       "      <td>apple</td>\n",
       "      <td>869.26</td>\n",
       "    </tr>\n",
       "    <tr>\n",
       "      <th>4</th>\n",
       "      <td>2020-01-01 05:54:04 UTC</td>\n",
       "      <td>purchase</td>\n",
       "      <td>1005132</td>\n",
       "      <td>construction.tools.light</td>\n",
       "      <td>apple</td>\n",
       "      <td>1276.06</td>\n",
       "    </tr>\n",
       "  </tbody>\n",
       "</table>\n",
       "</div>"
      ],
      "text/plain": [
       "                         0         1        2                              3  \\\n",
       "0  2020-01-01 05:53:53 UTC  purchase  1005105       construction.tools.light   \n",
       "1  2020-01-01 05:53:53 UTC  purchase  1005105       construction.tools.light   \n",
       "2  2020-01-01 05:53:57 UTC  purchase  4600552  appliances.kitchen.dishwasher   \n",
       "3  2020-01-01 05:53:58 UTC  purchase  1005115       construction.tools.light   \n",
       "4  2020-01-01 05:54:04 UTC  purchase  1005132       construction.tools.light   \n",
       "\n",
       "       4        5  \n",
       "0  apple  1275.16  \n",
       "1  apple  1275.16  \n",
       "2  bosch   679.53  \n",
       "3  apple   869.26  \n",
       "4  apple  1276.06  "
      ]
     },
     "execution_count": 26,
     "metadata": {},
     "output_type": "execute_result"
    }
   ],
   "source": [
    "data = pd.DataFrame(df_psycopg2)\n",
    "data.head()"
   ]
  },
  {
   "cell_type": "code",
   "execution_count": 27,
   "id": "deeecece",
   "metadata": {
    "ExecuteTime": {
     "end_time": "2023-09-25T05:06:40.554811Z",
     "start_time": "2023-09-25T05:06:40.416753Z"
    }
   },
   "outputs": [],
   "source": [
    "nome_colunas = df.columns"
   ]
  },
  {
   "cell_type": "code",
   "execution_count": 28,
   "id": "a28457a6",
   "metadata": {
    "ExecuteTime": {
     "end_time": "2023-09-25T05:06:40.740096Z",
     "start_time": "2023-09-25T05:06:40.561751Z"
    }
   },
   "outputs": [
    {
     "data": {
      "text/html": [
       "<div>\n",
       "<style scoped>\n",
       "    .dataframe tbody tr th:only-of-type {\n",
       "        vertical-align: middle;\n",
       "    }\n",
       "\n",
       "    .dataframe tbody tr th {\n",
       "        vertical-align: top;\n",
       "    }\n",
       "\n",
       "    .dataframe thead th {\n",
       "        text-align: right;\n",
       "    }\n",
       "</style>\n",
       "<table border=\"1\" class=\"dataframe\">\n",
       "  <thead>\n",
       "    <tr style=\"text-align: right;\">\n",
       "      <th></th>\n",
       "      <th>event_time</th>\n",
       "      <th>event_type</th>\n",
       "      <th>product_id</th>\n",
       "      <th>category_code</th>\n",
       "      <th>brand</th>\n",
       "      <th>price</th>\n",
       "    </tr>\n",
       "  </thead>\n",
       "  <tbody>\n",
       "    <tr>\n",
       "      <th>0</th>\n",
       "      <td>2020-01-01 05:53:53 UTC</td>\n",
       "      <td>purchase</td>\n",
       "      <td>1005105</td>\n",
       "      <td>construction.tools.light</td>\n",
       "      <td>apple</td>\n",
       "      <td>1275.16</td>\n",
       "    </tr>\n",
       "    <tr>\n",
       "      <th>1</th>\n",
       "      <td>2020-01-01 05:53:53 UTC</td>\n",
       "      <td>purchase</td>\n",
       "      <td>1005105</td>\n",
       "      <td>construction.tools.light</td>\n",
       "      <td>apple</td>\n",
       "      <td>1275.16</td>\n",
       "    </tr>\n",
       "    <tr>\n",
       "      <th>2</th>\n",
       "      <td>2020-01-01 05:53:57 UTC</td>\n",
       "      <td>purchase</td>\n",
       "      <td>4600552</td>\n",
       "      <td>appliances.kitchen.dishwasher</td>\n",
       "      <td>bosch</td>\n",
       "      <td>679.53</td>\n",
       "    </tr>\n",
       "    <tr>\n",
       "      <th>3</th>\n",
       "      <td>2020-01-01 05:53:58 UTC</td>\n",
       "      <td>purchase</td>\n",
       "      <td>1005115</td>\n",
       "      <td>construction.tools.light</td>\n",
       "      <td>apple</td>\n",
       "      <td>869.26</td>\n",
       "    </tr>\n",
       "    <tr>\n",
       "      <th>4</th>\n",
       "      <td>2020-01-01 05:54:04 UTC</td>\n",
       "      <td>purchase</td>\n",
       "      <td>1005132</td>\n",
       "      <td>construction.tools.light</td>\n",
       "      <td>apple</td>\n",
       "      <td>1276.06</td>\n",
       "    </tr>\n",
       "  </tbody>\n",
       "</table>\n",
       "</div>"
      ],
      "text/plain": [
       "                event_time event_type  product_id  \\\n",
       "0  2020-01-01 05:53:53 UTC   purchase     1005105   \n",
       "1  2020-01-01 05:53:53 UTC   purchase     1005105   \n",
       "2  2020-01-01 05:53:57 UTC   purchase     4600552   \n",
       "3  2020-01-01 05:53:58 UTC   purchase     1005115   \n",
       "4  2020-01-01 05:54:04 UTC   purchase     1005132   \n",
       "\n",
       "                   category_code  brand    price  \n",
       "0       construction.tools.light  apple  1275.16  \n",
       "1       construction.tools.light  apple  1275.16  \n",
       "2  appliances.kitchen.dishwasher  bosch   679.53  \n",
       "3       construction.tools.light  apple   869.26  \n",
       "4       construction.tools.light  apple  1276.06  "
      ]
     },
     "execution_count": 28,
     "metadata": {},
     "output_type": "execute_result"
    }
   ],
   "source": [
    "data.columns = nome_colunas\n",
    "data.head()"
   ]
  },
  {
   "cell_type": "code",
   "execution_count": 29,
   "id": "f0f8c5f1",
   "metadata": {
    "ExecuteTime": {
     "end_time": "2023-09-25T05:06:40.803815Z",
     "start_time": "2023-09-25T05:06:40.742038Z"
    }
   },
   "outputs": [],
   "source": [
    "cursor.close()\n",
    "conn.close()"
   ]
  }
 ],
 "metadata": {
  "hide_input": false,
  "kernelspec": {
   "display_name": "Python 3 (ipykernel)",
   "language": "python",
   "name": "python3"
  },
  "language_info": {
   "codemirror_mode": {
    "name": "ipython",
    "version": 3
   },
   "file_extension": ".py",
   "mimetype": "text/x-python",
   "name": "python",
   "nbconvert_exporter": "python",
   "pygments_lexer": "ipython3",
   "version": "3.9.16"
  }
 },
 "nbformat": 4,
 "nbformat_minor": 5
}
