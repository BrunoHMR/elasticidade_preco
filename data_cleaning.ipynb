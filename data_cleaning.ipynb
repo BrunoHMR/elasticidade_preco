{
 "cells": [
  {
   "cell_type": "markdown",
   "id": "dfebbd6d",
   "metadata": {},
   "source": [
    "# 0.0 Conjunto de dados"
   ]
  },
  {
   "cell_type": "markdown",
   "id": "a50300c5",
   "metadata": {},
   "source": [
    "Foi escolhido um conjunto de dados que contém registros das compras ocorridas entre janeiro de 2020 e abril de 2020, em grandes lojas online, com categorias de produtos variados. Cada linha no arquivo representa um evento. Todos os eventos estão relacionados a produtos e usuários. Cada evento é como uma relação muitos-para-muitos entre produtos e usuários. Dados coletados pelo projeto Open CDP.\n",
    "\n",
    "- Kaggle: https://www.kaggle.com/datasets/mkechinov/ecommerce-behavior-data-from-multi-category-store\n",
    "- Open CDP: https://rees46.com/en/open-cdp"
   ]
  },
  {
   "cell_type": "markdown",
   "id": "82a9a37f",
   "metadata": {},
   "source": [
    "# 1.0 Configurações iniciais"
   ]
  },
  {
   "cell_type": "code",
   "execution_count": 1,
   "id": "f3434bda",
   "metadata": {
    "ExecuteTime": {
     "end_time": "2023-09-21T18:19:51.954763Z",
     "start_time": "2023-09-21T18:18:39.394455Z"
    }
   },
   "outputs": [],
   "source": [
    "import pandas as pd\n",
    "import numpy as np\n",
    "import plotly.express as px\n",
    "import datetime\n",
    "import warnings"
   ]
  },
  {
   "cell_type": "code",
   "execution_count": 2,
   "id": "793a8a14",
   "metadata": {
    "ExecuteTime": {
     "end_time": "2023-09-21T18:19:51.969758Z",
     "start_time": "2023-09-21T18:19:51.958770Z"
    }
   },
   "outputs": [],
   "source": [
    "warnings.filterwarnings('ignore')"
   ]
  },
  {
   "cell_type": "markdown",
   "id": "6c250ef1",
   "metadata": {},
   "source": [
    "# 2.0 Descrição dos dados"
   ]
  },
  {
   "cell_type": "markdown",
   "id": "c337cf96",
   "metadata": {},
   "source": [
    "## 2.1 Testando com o mês de abril de 2020"
   ]
  },
  {
   "cell_type": "code",
   "execution_count": 3,
   "id": "dd1a5cba",
   "metadata": {
    "ExecuteTime": {
     "end_time": "2023-09-21T18:19:52.369408Z",
     "start_time": "2023-09-21T18:19:51.971728Z"
    }
   },
   "outputs": [
    {
     "data": {
      "text/html": [
       "<div>\n",
       "<style scoped>\n",
       "    .dataframe tbody tr th:only-of-type {\n",
       "        vertical-align: middle;\n",
       "    }\n",
       "\n",
       "    .dataframe tbody tr th {\n",
       "        vertical-align: top;\n",
       "    }\n",
       "\n",
       "    .dataframe thead th {\n",
       "        text-align: right;\n",
       "    }\n",
       "</style>\n",
       "<table border=\"1\" class=\"dataframe\">\n",
       "  <thead>\n",
       "    <tr style=\"text-align: right;\">\n",
       "      <th></th>\n",
       "      <th>event_time</th>\n",
       "      <th>event_type</th>\n",
       "      <th>product_id</th>\n",
       "      <th>category_id</th>\n",
       "      <th>category_code</th>\n",
       "      <th>brand</th>\n",
       "      <th>price</th>\n",
       "      <th>user_id</th>\n",
       "      <th>user_session</th>\n",
       "    </tr>\n",
       "  </thead>\n",
       "  <tbody>\n",
       "    <tr>\n",
       "      <th>0</th>\n",
       "      <td>2020-04-01 00:00:00 UTC</td>\n",
       "      <td>view</td>\n",
       "      <td>1201465</td>\n",
       "      <td>2232732101407408685</td>\n",
       "      <td>apparel.shoes.slipons</td>\n",
       "      <td>samsung</td>\n",
       "      <td>230.38</td>\n",
       "      <td>568984877</td>\n",
       "      <td>e2456cef-2d4f-42b9-a53a-8893cb0c6851</td>\n",
       "    </tr>\n",
       "    <tr>\n",
       "      <th>1</th>\n",
       "      <td>2020-04-01 00:00:01 UTC</td>\n",
       "      <td>view</td>\n",
       "      <td>1307156</td>\n",
       "      <td>2053013554658804075</td>\n",
       "      <td>electronics.audio.headphone</td>\n",
       "      <td>apple</td>\n",
       "      <td>1352.67</td>\n",
       "      <td>514955500</td>\n",
       "      <td>38f43134-de83-4710-ae0a-326677d292c6</td>\n",
       "    </tr>\n",
       "    <tr>\n",
       "      <th>2</th>\n",
       "      <td>2020-04-01 00:00:01 UTC</td>\n",
       "      <td>view</td>\n",
       "      <td>1480477</td>\n",
       "      <td>2053013563835941749</td>\n",
       "      <td>appliances.kitchen.refrigerators</td>\n",
       "      <td>apple</td>\n",
       "      <td>1184.05</td>\n",
       "      <td>633645770</td>\n",
       "      <td>16aba270-b3c2-4b23-be0a-b7c80bc9da9e</td>\n",
       "    </tr>\n",
       "    <tr>\n",
       "      <th>3</th>\n",
       "      <td>2020-04-01 00:00:02 UTC</td>\n",
       "      <td>view</td>\n",
       "      <td>1307050</td>\n",
       "      <td>2053013554658804075</td>\n",
       "      <td>electronics.audio.headphone</td>\n",
       "      <td>apple</td>\n",
       "      <td>1724.34</td>\n",
       "      <td>564933778</td>\n",
       "      <td>05b443bd-e68a-4d72-b971-80bd31109cb8</td>\n",
       "    </tr>\n",
       "    <tr>\n",
       "      <th>4</th>\n",
       "      <td>2020-04-01 00:00:03 UTC</td>\n",
       "      <td>view</td>\n",
       "      <td>9500109</td>\n",
       "      <td>2232732104175649385</td>\n",
       "      <td>apparel.scarf</td>\n",
       "      <td>defender</td>\n",
       "      <td>25.05</td>\n",
       "      <td>530206135</td>\n",
       "      <td>e3c1fb4b-0a7e-457d-a0cf-5d1479e9aafc</td>\n",
       "    </tr>\n",
       "  </tbody>\n",
       "</table>\n",
       "</div>"
      ],
      "text/plain": [
       "                event_time event_type  product_id          category_id  \\\n",
       "0  2020-04-01 00:00:00 UTC       view     1201465  2232732101407408685   \n",
       "1  2020-04-01 00:00:01 UTC       view     1307156  2053013554658804075   \n",
       "2  2020-04-01 00:00:01 UTC       view     1480477  2053013563835941749   \n",
       "3  2020-04-01 00:00:02 UTC       view     1307050  2053013554658804075   \n",
       "4  2020-04-01 00:00:03 UTC       view     9500109  2232732104175649385   \n",
       "\n",
       "                      category_code     brand    price    user_id  \\\n",
       "0             apparel.shoes.slipons   samsung   230.38  568984877   \n",
       "1       electronics.audio.headphone     apple  1352.67  514955500   \n",
       "2  appliances.kitchen.refrigerators     apple  1184.05  633645770   \n",
       "3       electronics.audio.headphone     apple  1724.34  564933778   \n",
       "4                     apparel.scarf  defender    25.05  530206135   \n",
       "\n",
       "                           user_session  \n",
       "0  e2456cef-2d4f-42b9-a53a-8893cb0c6851  \n",
       "1  38f43134-de83-4710-ae0a-326677d292c6  \n",
       "2  16aba270-b3c2-4b23-be0a-b7c80bc9da9e  \n",
       "3  05b443bd-e68a-4d72-b971-80bd31109cb8  \n",
       "4  e3c1fb4b-0a7e-457d-a0cf-5d1479e9aafc  "
      ]
     },
     "execution_count": 3,
     "metadata": {},
     "output_type": "execute_result"
    }
   ],
   "source": [
    "# Verificando as colunas do conjunto de dados\n",
    "df_load = pd.read_csv('archive/2020-Apr.csv', nrows = 10)\n",
    "df_load.head()"
   ]
  },
  {
   "cell_type": "code",
   "execution_count": 4,
   "id": "3610c7be",
   "metadata": {
    "ExecuteTime": {
     "end_time": "2023-09-21T18:19:52.385321Z",
     "start_time": "2023-09-21T18:19:52.372321Z"
    }
   },
   "outputs": [
    {
     "data": {
      "text/plain": [
       "event_time        object\n",
       "event_type        object\n",
       "product_id         int64\n",
       "category_id        int64\n",
       "category_code     object\n",
       "brand             object\n",
       "price            float64\n",
       "user_id            int64\n",
       "user_session      object\n",
       "dtype: object"
      ]
     },
     "execution_count": 4,
     "metadata": {},
     "output_type": "execute_result"
    }
   ],
   "source": [
    "df_load.dtypes"
   ]
  },
  {
   "cell_type": "code",
   "execution_count": 5,
   "id": "83885be8",
   "metadata": {
    "ExecuteTime": {
     "end_time": "2023-09-21T18:24:04.192860Z",
     "start_time": "2023-09-21T18:19:52.388321Z"
    }
   },
   "outputs": [
    {
     "data": {
      "text/html": [
       "<div>\n",
       "<style scoped>\n",
       "    .dataframe tbody tr th:only-of-type {\n",
       "        vertical-align: middle;\n",
       "    }\n",
       "\n",
       "    .dataframe tbody tr th {\n",
       "        vertical-align: top;\n",
       "    }\n",
       "\n",
       "    .dataframe thead th {\n",
       "        text-align: right;\n",
       "    }\n",
       "</style>\n",
       "<table border=\"1\" class=\"dataframe\">\n",
       "  <thead>\n",
       "    <tr style=\"text-align: right;\">\n",
       "      <th></th>\n",
       "      <th>event_time</th>\n",
       "      <th>event_type</th>\n",
       "      <th>product_id</th>\n",
       "      <th>category_code</th>\n",
       "      <th>brand</th>\n",
       "      <th>price</th>\n",
       "    </tr>\n",
       "  </thead>\n",
       "  <tbody>\n",
       "    <tr>\n",
       "      <th>0</th>\n",
       "      <td>2020-04-01 00:00:00 UTC</td>\n",
       "      <td>view</td>\n",
       "      <td>1201465</td>\n",
       "      <td>apparel.shoes.slipons</td>\n",
       "      <td>samsung</td>\n",
       "      <td>230.380005</td>\n",
       "    </tr>\n",
       "    <tr>\n",
       "      <th>1</th>\n",
       "      <td>2020-04-01 00:00:01 UTC</td>\n",
       "      <td>view</td>\n",
       "      <td>1307156</td>\n",
       "      <td>electronics.audio.headphone</td>\n",
       "      <td>apple</td>\n",
       "      <td>1352.670044</td>\n",
       "    </tr>\n",
       "    <tr>\n",
       "      <th>2</th>\n",
       "      <td>2020-04-01 00:00:01 UTC</td>\n",
       "      <td>view</td>\n",
       "      <td>1480477</td>\n",
       "      <td>appliances.kitchen.refrigerators</td>\n",
       "      <td>apple</td>\n",
       "      <td>1184.050049</td>\n",
       "    </tr>\n",
       "    <tr>\n",
       "      <th>3</th>\n",
       "      <td>2020-04-01 00:00:02 UTC</td>\n",
       "      <td>view</td>\n",
       "      <td>1307050</td>\n",
       "      <td>electronics.audio.headphone</td>\n",
       "      <td>apple</td>\n",
       "      <td>1724.339966</td>\n",
       "    </tr>\n",
       "    <tr>\n",
       "      <th>4</th>\n",
       "      <td>2020-04-01 00:00:03 UTC</td>\n",
       "      <td>view</td>\n",
       "      <td>9500109</td>\n",
       "      <td>apparel.scarf</td>\n",
       "      <td>defender</td>\n",
       "      <td>25.049999</td>\n",
       "    </tr>\n",
       "  </tbody>\n",
       "</table>\n",
       "</div>"
      ],
      "text/plain": [
       "                event_time event_type  product_id  \\\n",
       "0  2020-04-01 00:00:00 UTC       view     1201465   \n",
       "1  2020-04-01 00:00:01 UTC       view     1307156   \n",
       "2  2020-04-01 00:00:01 UTC       view     1480477   \n",
       "3  2020-04-01 00:00:02 UTC       view     1307050   \n",
       "4  2020-04-01 00:00:03 UTC       view     9500109   \n",
       "\n",
       "                      category_code     brand        price  \n",
       "0             apparel.shoes.slipons   samsung   230.380005  \n",
       "1       electronics.audio.headphone     apple  1352.670044  \n",
       "2  appliances.kitchen.refrigerators     apple  1184.050049  \n",
       "3       electronics.audio.headphone     apple  1724.339966  \n",
       "4                     apparel.scarf  defender    25.049999  "
      ]
     },
     "execution_count": 5,
     "metadata": {},
     "output_type": "execute_result"
    }
   ],
   "source": [
    "# Manipulando o tipo das colunas para reduzir o tamanho do conjunto de dados\n",
    "dtype = {'event_time': 'object',\n",
    "         'event_type': 'category',\n",
    "         'product_id': 'int64',\n",
    "         'category_code': 'category',\n",
    "         'brand': 'category',\n",
    "         'price': 'float32'}\n",
    "\n",
    "usecols = list(dtype.keys())\n",
    "\n",
    "df_reduced = pd.read_csv('archive/2020-Apr.csv', dtype = dtype, usecols = usecols)\n",
    "df_reduced.head()"
   ]
  },
  {
   "cell_type": "code",
   "execution_count": 6,
   "id": "177fe394",
   "metadata": {
    "ExecuteTime": {
     "end_time": "2023-09-21T18:24:04.240860Z",
     "start_time": "2023-09-21T18:24:04.198861Z"
    }
   },
   "outputs": [
    {
     "data": {
      "text/plain": [
       "event_time         object\n",
       "event_type       category\n",
       "product_id          int64\n",
       "category_code    category\n",
       "brand            category\n",
       "price             float32\n",
       "dtype: object"
      ]
     },
     "execution_count": 6,
     "metadata": {},
     "output_type": "execute_result"
    }
   ],
   "source": [
    "df_reduced.dtypes"
   ]
  },
  {
   "cell_type": "code",
   "execution_count": 7,
   "id": "ac5a86e8",
   "metadata": {
    "ExecuteTime": {
     "end_time": "2023-09-21T18:24:05.168859Z",
     "start_time": "2023-09-21T18:24:04.242862Z"
    }
   },
   "outputs": [],
   "source": [
    "# Selecionando apenas as linhas que contém registros de compra:\n",
    "df_reduced = df_reduced[(df_reduced['event_type'] == 'purchase')]"
   ]
  },
  {
   "cell_type": "code",
   "execution_count": 8,
   "id": "52c581a4",
   "metadata": {
    "ExecuteTime": {
     "end_time": "2023-09-21T18:24:05.342859Z",
     "start_time": "2023-09-21T18:24:05.171860Z"
    }
   },
   "outputs": [],
   "source": [
    "# Removendo NAs:\n",
    "df_reduced = df_reduced.dropna(axis = 0)"
   ]
  },
  {
   "cell_type": "code",
   "execution_count": 9,
   "id": "3011b061",
   "metadata": {
    "ExecuteTime": {
     "end_time": "2023-09-21T18:24:06.058903Z",
     "start_time": "2023-09-21T18:24:05.344860Z"
    }
   },
   "outputs": [
    {
     "name": "stdout",
     "output_type": "stream",
     "text": [
      "Os nomes das colunas são: \n",
      "Index(['event_time', 'event_type', 'product_id', 'category_code', 'brand',\n",
      "       'price'],\n",
      "      dtype='object')\n",
      "\n",
      "O tamanho do conjunto de dados é (linhas, colunas): \n",
      "(822697, 6)\n",
      "\n",
      "A quantidade de linhas vazias para cada coluna é: \n",
      "event_time       0\n",
      "event_type       0\n",
      "product_id       0\n",
      "category_code    0\n",
      "brand            0\n",
      "price            0\n",
      "dtype: int64\n",
      "\n"
     ]
    }
   ],
   "source": [
    "# Visão geral dos dados\n",
    "print('Os nomes das colunas são: \\n{}\\n'.format(df_reduced.columns))\n",
    "print('O tamanho do conjunto de dados é (linhas, colunas): \\n{}\\n'.format(df_reduced.shape))\n",
    "print('A quantidade de linhas vazias para cada coluna é: \\n{}\\n'.format(df_reduced.isna().sum()))"
   ]
  },
  {
   "cell_type": "code",
   "execution_count": 10,
   "id": "212572a8",
   "metadata": {
    "ExecuteTime": {
     "end_time": "2023-09-21T18:24:14.686874Z",
     "start_time": "2023-09-21T18:24:06.060860Z"
    }
   },
   "outputs": [],
   "source": [
    "# Exportando conjunto csv\n",
    "df_reduced.to_csv('archive/df_reduced_april_2020.csv', index = False)  "
   ]
  },
  {
   "cell_type": "markdown",
   "id": "3d83e2dd",
   "metadata": {},
   "source": [
    "## 2.2 Realizando o mesmo processo para os meses de janeiro, fevereiro e março"
   ]
  },
  {
   "cell_type": "code",
   "execution_count": 11,
   "id": "9022252d",
   "metadata": {
    "ExecuteTime": {
     "end_time": "2023-09-21T18:27:24.139409Z",
     "start_time": "2023-09-21T18:24:14.688877Z"
    }
   },
   "outputs": [],
   "source": [
    "# Março\n",
    "df_reduced_mar = pd.read_csv('archive/2020-Mar.csv', dtype = dtype, usecols = usecols)\n",
    "df_reduced_mar = df_reduced_mar[(df_reduced_mar['event_type'] == 'purchase')]\n",
    "df_reduced_mar = df_reduced_mar.dropna(axis = 0)\n",
    "df_reduced_mar.to_csv('archive/df_reduced_mar_2020.csv', index = False)  "
   ]
  },
  {
   "cell_type": "code",
   "execution_count": 12,
   "id": "44ffc9e8",
   "metadata": {
    "ExecuteTime": {
     "end_time": "2023-09-21T18:36:25.459047Z",
     "start_time": "2023-09-21T18:27:24.300388Z"
    }
   },
   "outputs": [],
   "source": [
    "# Fevereiro\n",
    "df_reduced_feb = pd.read_csv('archive/2020-Feb.csv', dtype = dtype, usecols = usecols)\n",
    "df_reduced_feb = df_reduced_feb[(df_reduced_feb['event_type'] == 'purchase')]\n",
    "df_reduced_feb = df_reduced_feb.dropna(axis = 0)\n",
    "df_reduced_feb.to_csv('archive/df_reduced_feb_2020.csv', index = False) "
   ]
  },
  {
   "cell_type": "code",
   "execution_count": 13,
   "id": "c9c30e62",
   "metadata": {
    "ExecuteTime": {
     "end_time": "2023-09-21T18:39:51.250287Z",
     "start_time": "2023-09-21T18:36:26.164251Z"
    }
   },
   "outputs": [],
   "source": [
    "# Janeiro\n",
    "df_reduced_jan = pd.read_csv('archive/2020-Jan.csv', dtype = dtype, usecols = usecols)\n",
    "df_reduced_jan = df_reduced_jan[(df_reduced_jan['event_type'] == 'purchase')]\n",
    "df_reduced_jan = df_reduced_jan.dropna(axis = 0)\n",
    "df_reduced_jan.to_csv('archive/df_reduced_jan_2020.csv', index = False) "
   ]
  },
  {
   "cell_type": "code",
   "execution_count": 14,
   "id": "f5b4a5e7",
   "metadata": {
    "ExecuteTime": {
     "end_time": "2023-09-21T18:40:09.209025Z",
     "start_time": "2023-09-21T18:39:51.253290Z"
    }
   },
   "outputs": [],
   "source": [
    "# Lendo os csvs:\n",
    "df_reduced_apr = pd.read_csv('archive/df_reduced_april_2020.csv')\n",
    "df_reduced_mar = pd.read_csv('archive/df_reduced_mar_2020.csv')\n",
    "df_reduced_feb = pd.read_csv('archive/df_reduced_feb_2020.csv')\n",
    "df_reduced_jan = pd.read_csv('archive/df_reduced_jan_2020.csv')"
   ]
  },
  {
   "cell_type": "code",
   "execution_count": 15,
   "id": "be88902b",
   "metadata": {
    "ExecuteTime": {
     "end_time": "2023-09-21T18:40:09.518117Z",
     "start_time": "2023-09-21T18:40:09.211040Z"
    }
   },
   "outputs": [],
   "source": [
    "# Concatenando os dados\n",
    "df_concat = pd.concat([df_reduced_jan, df_reduced_feb, df_reduced_mar, df_reduced_apr])"
   ]
  },
  {
   "cell_type": "code",
   "execution_count": 16,
   "id": "8474ddae",
   "metadata": {
    "ExecuteTime": {
     "end_time": "2023-09-21T18:40:09.736512Z",
     "start_time": "2023-09-21T18:40:09.521085Z"
    }
   },
   "outputs": [
    {
     "name": "stdout",
     "output_type": "stream",
     "text": [
      "O tamanho do conjunto de dados é (linhas, colunas): \n",
      "(3491835, 6)\n",
      "\n"
     ]
    }
   ],
   "source": [
    "# Tamanho do conjunto concatenado\n",
    "print('O tamanho do conjunto de dados é (linhas, colunas): \\n{}\\n'.format(df_concat.shape))"
   ]
  },
  {
   "cell_type": "code",
   "execution_count": 17,
   "id": "ad3d4792",
   "metadata": {
    "ExecuteTime": {
     "end_time": "2023-09-21T18:40:28.943616Z",
     "start_time": "2023-09-21T18:40:09.739451Z"
    }
   },
   "outputs": [],
   "source": [
    "# Exportando o df concatenado final\n",
    "df_concat.to_csv('archive/df_concat.csv', index = False) "
   ]
  }
 ],
 "metadata": {
  "hide_input": false,
  "kernelspec": {
   "display_name": "Python 3 (ipykernel)",
   "language": "python",
   "name": "python3"
  },
  "language_info": {
   "codemirror_mode": {
    "name": "ipython",
    "version": 3
   },
   "file_extension": ".py",
   "mimetype": "text/x-python",
   "name": "python",
   "nbconvert_exporter": "python",
   "pygments_lexer": "ipython3",
   "version": "3.9.16"
  }
 },
 "nbformat": 4,
 "nbformat_minor": 5
}
